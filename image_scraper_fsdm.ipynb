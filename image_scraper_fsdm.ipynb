{
 "cells": [
  {
   "cell_type": "code",
   "execution_count": 1,
   "id": "4298b0cd-c4e3-4bd6-a3b8-1089caadb865",
   "metadata": {},
   "outputs": [],
   "source": [
    "import requests  # requests se hum website ya URL pe request bhejte hain, jahan se data ya image le sakte hain\n",
    "import logging   # logging se hum program ke errors ya important information ko save kar sakte hain, taaki agar kuch galat ho toh pata chal jaye\n",
    "import os   # os se hum apne computer mein folders ya files bana sakte hain, delete kar sakte hain, ya unko manage kar sakte hain\n",
    "from bs4 import BeautifulSoup\n",
    "from urllib.request import urlopen  # urlopen se hum directly kisi URL ko open karke uska content (jaise image) le sakte hain\n"
   ]
  },
  {
   "cell_type": "code",
   "execution_count": 2,
   "id": "7e3fdb4b-a87c-48e2-b58d-5ae47acd6b11",
   "metadata": {},
   "outputs": [],
   "source": [
    "# create a directory to save images if doesnt exist \n",
    "\n",
    "\n",
    "save_dir = \"ktm bikes\"  # ✅ relative folder path, will create folder 'ktm bikes' in your current directory\n",
    "  # yeh folder ka naam hai jahan images save karni hain\n",
    "if not os.path.exists(save_dir):  # agar yeh folder computer mein nahi hai\n",
    "    os.makedirs(save_dir)  # toh naya folder bana do"
   ]
  },
  {
   "cell_type": "code",
   "execution_count": 3,
   "id": "e873967d-2c12-4b0a-b5b2-991a01480d5e",
   "metadata": {},
   "outputs": [],
   "source": [
    "query = \"iphone 16 \"\n",
    "#url = https://www.google.com/search?q=bullet&sca_esv=41514daaec8f90aa&rlz=1C1GCEA_enIN1005IN1005&udm=2&biw=767&bih=730&sxsrf=AE3TifPWq-4MQUVwM3DvlW6QU6fI9hX5pg%3A1749036689016&ei=kS5AaJ1lhqOd6w_gmK1R&ved=0ahUKEwjd8bC01deNAxWGUWcHHWBMKwoQ4dUDCBE&oq=bullet&gs_lp=EgNpbWciBmJ1bGxldDINEAAYgAQYsQMYQxiKBTIGEAAYBxgeMgYQABgHGB4yCBAAGIAEGLEDMgYQABgHGB4yBhAAGAcYHjIGEAAYBxgeMgYQABgHGB4yBhAAGAcYHjIGEAAYBxgeSN31AVAAWABwAngAkAEAmAEAoAEAqgEAuAEMyAEAmAICoAIlmAMAiAYBkgcBMqAHALIHALgHAMIHBTMtMS4xyAcf&sclient=img"
   ]
  },
  {
   "cell_type": "code",
   "execution_count": 4,
   "id": "c788984c-709b-4e9e-b2be-2e2ef3e2042a",
   "metadata": {},
   "outputs": [],
   "source": [
    "response = requests.get(f\"https://www.google.com/search?q={query}&sxsrf=AJOqlzUuff1RXi2mm8I_OqOwT9VjfIDL7w:1676996143273&source=lnms&tbm=isch&sa=X&ved=2ahUKEwiq-qK7gaf9AhX\")\n",
    "# Google Images pe search query bhejne ke liye GET request send kar rahe hain\n",
    "# yahan query wo keyword hai jiske images hum dhoondh rahe hain\n",
    "# response mein hume Google ka page ka data milega\n"
   ]
  },
  {
   "cell_type": "code",
   "execution_count": 5,
   "id": "a9b757c8-5daa-4d3f-839a-ccd2cb96a5b3",
   "metadata": {},
   "outputs": [
    {
     "data": {
      "text/plain": [
       "<Response [200]>"
      ]
     },
     "execution_count": 5,
     "metadata": {},
     "output_type": "execute_result"
    }
   ],
   "source": [
    "response"
   ]
  },
  {
   "cell_type": "code",
   "execution_count": 6,
   "id": "c87ec1fe-7027-478b-8476-26fb3d7eb298",
   "metadata": {},
   "outputs": [],
   "source": [
    "soup = BeautifulSoup(response.content, \"html.parser\")  \n",
    "# response.content mein jo HTML code aaya hai usko BeautifulSoup se parse kar rahe hain,\n",
    "# taki hum us HTML structure ko easily samajh ke usme se data (jaise images ke links) nikal saken.\n",
    "# \"html.parser\" ek built-in parser hai jo HTML ko Python object mein convert karta hai.\n"
   ]
  },
  {
   "cell_type": "code",
   "execution_count": 7,
   "id": "f8c7bb3c-954a-4d80-bca7-a28896f5afb2",
   "metadata": {},
   "outputs": [
    {
     "data": {
      "text/plain": [
       "<!DOCTYPE html PUBLIC \"-//WAPFORUM//DTD XHTML Mobile 1.0//EN\" \"http://www.wapforum.org/DTD/xhtml-mobile10.dtd\">\n",
       "<html lang=\"en-IN\" xmlns=\"http://www.w3.org/1999/xhtml\"><head><meta content=\"application/xhtml+xml; charset=utf-8\" http-equiv=\"Content-Type\"/><meta content=\"no-cache\" name=\"Cache-Control\"/><title>iphone 16 - Google Search</title><style>a{text-decoration:none;color:inherit}a:hover{text-decoration:underline}a img{border:0}body{font-family:sans-serif;padding:8px;margin:0 auto;max-width:700px;min-width:240px;}.FbhRzb{border-left:thin solid #dadce0;border-right:thin solid #dadce0;border-top:thin solid #dadce0;height:40px;overflow:hidden}.n692Zd{margin-bottom:10px}.cvifge{height:40px;border-spacing:0}.QvGUP{height:40px;padding:0 8px 0 8px;vertical-align:top}.O4cRJf{height:40px;width:100%;padding:0;padding-right:14px}.O1ePr{height:40px;padding:0;vertical-align:top}.kgJEQe{height:36px;width:98px;vertical-align:top;margin-top:4px}.lXLRf{vertical-align:top}.MhzMZd{border:0;vertical-align:middle;font-size:14px;height:40px;padding:0;width:100%;padding-left:14px}.xB0fq{height:40px;border:none;font-size:14px;background-color:#1a73e8;color:#fff;padding:0 14px;margin:0;vertical-align:top;cursor:pointer}.xB0fq:focus{border:1px solid #1a73e8}.M7pB2{border:thin solid #dadce0;margin:0 0 3px 0;font-size:13px;font-weight:500;height:40px}.euZec{width:100%;height:40px;text-align:center;border-spacing:0}table.euZec td{padding:0;width:25%}.QIqI7{display:inline-block;padding-top:4px;font-weight:bold;color:#4285f4}.EY24We{border-bottom:2px solid #4285f4}.CsQyDc{display:inline-block;color:#70757a}.TuS8Ad{font-size:14px}.HddGcc{padding:8px;color:#70757a}.dzp8ae{font-weight:bold;color:#3c4043}.rEM8G{color:#70757a}.bookcf{table-layout:fixed;width:100%;border-spacing:0}.InWNIe{text-align:center}.uZgmoc{border:thin solid #dadce0;color:#70757a;font-size:14px;text-align:center;table-layout:fixed;width:100%}.frGj1b{display:block;padding:16px 0 12px 0;width:100%}.BnJWBc{text-align:center;padding:6px 0 13px 0;height:35px}.e3goi{vertical-align:top;padding:0;height:180px}.GpQGbf{margin:auto;border-collapse:collapse;border-spacing:0;width:100%}</style></head><body><style>.X6ZCif{color:#202124;font-size:11px;line-height:16px;display:inline-block;padding-top:2px;overflow:hidden;padding-bottom:4px;width:100%}.TwVfHd{border-radius:16px;border:thin solid #dadce0;display:inline-block;padding:8px 8px;margin-right:8px;margin-bottom:4px}.yekiAe{background-color:#dadce0}.jjVJ4e{width:100%}.ezO2md{border:thin solid #dadce0;padding:16px 14px 12px 14px;margin-bottom:10px;font-family:sans-serif}.lIMUZd{font-family:sans-serif}.RntSmf{border-spacing:0}.lgD2Tc{width:100%}.SpelHe{text-align:center}.SpelHe{position:relative}.kCmkOe{position:relative}.kCmkOe{width:162px;height:140px;line-height:140px;overflow:'hidden';text-align:center}.DS1iW{text-align:center;margin:auto;vertical-align:middle;max-width:162px;max-height:140px}.AlD19d{padding-top:2px;padding-bottom:8px;}.fYyStc{word-break:break-word}.ynsChf{display:block;white-space:nowrap;overflow:hidden;text-overflow:ellipsis}.Fj3V3b{color:#1967d2;font-size:14px;line-height:20px}.FrIlee{color:#202124;font-size:11px;line-height:16px}.F9iS2e{color:#70757a;font-size:11px;line-height:16px}.WMQ2Le{color:#70757a;font-size:12px;line-height:16px}.x3G5ab{color:#202124;font-size:12px;line-height:16px}.fuLhoc{color:#1967d2;font-size:16px;line-height:20px}.epoveb{font-size:24px;line-height:28px;font-weight:400;color:#202124}.dXDvrc{color:#0d652d;font-size:14px;line-height:20px;word-wrap:break-word}.dloBPe{font-weight:bold}.YVIcad{color:#70757a}.JkVVdd{color:#ea4335}.oXZRFd{color:#ea4335}.MQHtg{color:#fbbc04}.pyMRrb{color:#1e8e3e}.EtTZid{color:#1e8e3e}.M3vVJe{color:#1967d2}.qXLe6d{display:block}.NHQNef{font-style:italic}.Cb8Z7c{white-space:pre}a.ZWRArf{text-decoration:none}a .CVA68e:hover{text-decoration:underline}</style><div class=\"n692Zd\"><div class=\"BnJWBc\"><a class=\"lXLRf\" href=\"/?sa=X&amp;sca_esv=9f05e2405697a5fa&amp;output=images&amp;ie=UTF-8&amp;tbm=isch&amp;ved=0ahUKEwiB-omzntqNAxX1XWwGHVCEOGQQPAgC\"><img alt=\"Google\" class=\"kgJEQe\" src=\"/images/branding/searchlogo/1x/googlelogo_desk_heirloom_color_150x55dp.gif\"/></a></div><div class=\"FbhRzb\"><form action=\"/search\"><input name=\"sca_esv\" type=\"hidden\" value=\"9f05e2405697a5fa\"/><input name=\"ie\" type=\"hidden\" value=\"ISO-8859-1\"/><input name=\"tbm\" type=\"hidden\" value=\"isch\"/><input name=\"oq\" type=\"hidden\"/><input name=\"aqs\" type=\"hidden\"/><table class=\"cvifge\"><tr><td class=\"O4cRJf\"><input class=\"MhzMZd\" name=\"q\" type=\"text\" value=\"iphone 16\"/></td><td class=\"O1ePr\"><input class=\"xB0fq\" type=\"submit\" value=\"Search\"/></td></tr></table></form></div><div class=\"M7pB2\"><table class=\"euZec\"><tbody><tr><td><a class=\"CsQyDc\" href=\"/search?q=iphone+16&amp;sca_esv=9f05e2405697a5fa&amp;ie=UTF-8&amp;source=lnms&amp;sa=X&amp;ved=0ahUKEwiB-omzntqNAxX1XWwGHVCEOGQQ_AUIBCgA\">ALL</a></td><td class=\"EY24We\"><span class=\"QIqI7\">IMAGES</span></td><td><a class=\"CsQyDc\" href=\"/search?q=iphone+16&amp;sca_esv=9f05e2405697a5fa&amp;ie=UTF-8&amp;tbm=nws&amp;source=lnms&amp;sa=X&amp;ved=0ahUKEwiB-omzntqNAxX1XWwGHVCEOGQQ_AUIBigC\">NEWS</a></td><td><a class=\"CsQyDc\" href=\"/search?q=iphone+16&amp;sca_esv=9f05e2405697a5fa&amp;ie=UTF-8&amp;tbm=vid&amp;source=lnms&amp;sa=X&amp;ved=0ahUKEwiB-omzntqNAxX1XWwGHVCEOGQQ_AUIBygD\">VIDEOS</a></td></tr></tbody></table></div></div><div><table class=\"GpQGbf\"><tr><td align=\"center\" class=\"e3goi\"><div class=\"jjVJ4e\"> <div> <div class=\"lIMUZd\"><div><table class=\"RntSmf\"><tr><td><a href=\"/url?q=https://inspireonline.in/products/iphone-16-myed3hn-a&amp;sa=U&amp;ved=2ahUKEwiB-omzntqNAxX1XWwGHVCEOGQQqoUBegQIAxAB&amp;usg=AOvVaw3KUUEhARPlTaPlF7iMo-pr\"><div class=\"kCmkOe\"><img alt=\"\" class=\"DS1iW\" src=\"https://encrypted-tbn0.gstatic.com/images?q=tbn:ANd9GcSO6pS5Z4uEerMAiWWhH5GLyI_H5Utxo3_U7vTy-47rkO9tzdFnh9f52N6A4ao&amp;s\"/></div></a></td></tr><tr><td><a href=\"/url?q=https://inspireonline.in/products/iphone-16-myed3hn-a&amp;sa=U&amp;ved=2ahUKEwiB-omzntqNAxX1XWwGHVCEOGQQr4kDegQIAxAC&amp;usg=AOvVaw3tUZMQssd7fDuSEu6fJzlQ\"><div class=\"AlD19d\"> <span class=\"qXLe6d x3G5ab\"> <span class=\"fYyStc\">iPhone 16 128GB Teal –...</span> </span> <span class=\"qXLe6d F9iS2e\"> <span class=\"fYyStc\">inspireonline.in</span> </span> </div></a></td></tr></table></div></div> </div> </div></td><td align=\"center\" class=\"e3goi\"><div class=\"jjVJ4e\"> <div> <div class=\"lIMUZd\"><div><table class=\"RntSmf\"><tr><td><a href=\"/url?q=https://store.rsgsolutions.co.in/product/iphone-16-256gb-black-white-pink-teal-ultramarine/&amp;sa=U&amp;ved=2ahUKEwiB-omzntqNAxX1XWwGHVCEOGQQqoUBegQIFBAB&amp;usg=AOvVaw2pcBXmbEuKbWhwwOIQMhpe\"><div class=\"kCmkOe\"><img alt=\"\" class=\"DS1iW\" src=\"https://encrypted-tbn0.gstatic.com/images?q=tbn:ANd9GcSM3ihqOrQOhzvBJ34Nx2yXaBeMKciCUY0hU8xiNlrJ8nUMjc7n2PVB5hS6fw&amp;s\"/></div></a></td></tr><tr><td><a href=\"/url?q=https://store.rsgsolutions.co.in/product/iphone-16-256gb-black-white-pink-teal-ultramarine/&amp;sa=U&amp;ved=2ahUKEwiB-omzntqNAxX1XWwGHVCEOGQQr4kDegQIFBAC&amp;usg=AOvVaw35QHH8c1Aj2JSE1nnYQXA_\"><div class=\"AlD19d\"> <span class=\"qXLe6d x3G5ab\"> <span class=\"fYyStc\">iPhone 16 256GB (Black,...</span> </span> <span class=\"qXLe6d F9iS2e\"> <span class=\"fYyStc\">store.rsgsolutions.co.in</span> </span> </div></a></td></tr></table></div></div> </div> </div></td><td align=\"center\" class=\"e3goi\"><div class=\"jjVJ4e\"> <div> <div class=\"lIMUZd\"><div><table class=\"RntSmf\"><tr><td><a href=\"/url?q=https://www.amazon.in/iPhone-16-128-GB-Control/dp/B0DGJHBX5Y&amp;sa=U&amp;ved=2ahUKEwiB-omzntqNAxX1XWwGHVCEOGQQqoUBegQIExAB&amp;usg=AOvVaw2mm6c8SW4jkgTcYG_aKUZB\"><div class=\"kCmkOe\"><img alt=\"\" class=\"DS1iW\" src=\"https://encrypted-tbn0.gstatic.com/images?q=tbn:ANd9GcRscawrzcI5I8cEvA2EkLkYqRsgW6NsWUbqqVuR3ncz1MI7dOHdN5NnFIE4Z70&amp;s\"/></div></a></td></tr><tr><td><a href=\"/url?q=https://www.amazon.in/iPhone-16-128-GB-Control/dp/B0DGJHBX5Y&amp;sa=U&amp;ved=2ahUKEwiB-omzntqNAxX1XWwGHVCEOGQQr4kDegQIExAC&amp;usg=AOvVaw31qLs3I8yL9GxWsxKFATCL\"><div class=\"AlD19d\"> <span class=\"qXLe6d x3G5ab\"> <span class=\"fYyStc\">iPhone 16 128 GB: 5G Mobile...</span> </span> <span class=\"qXLe6d F9iS2e\"> <span class=\"fYyStc\">www.amazon.in</span> </span> </div></a></td></tr></table></div></div> </div> </div></td><td align=\"center\" class=\"e3goi\"><div class=\"jjVJ4e\"> <div> <div class=\"lIMUZd\"><div><table class=\"RntSmf\"><tr><td><a href=\"/url?q=https://www.apple.com/cm/newsroom/2024/09/apple-debuts-iphone-16-pro-iphone-16-pro-max/&amp;sa=U&amp;ved=2ahUKEwiB-omzntqNAxX1XWwGHVCEOGQQqoUBegQIEhAB&amp;usg=AOvVaw02X1Dzzk7dyeKF8NluwLkr\"><div class=\"kCmkOe\"><img alt=\"\" class=\"DS1iW\" src=\"https://encrypted-tbn0.gstatic.com/images?q=tbn:ANd9GcQ6GNA_gFwWpg9ghAslrD63C_Wdk13glEt2xSfslhHI1ggRw07Z5Anrqd-Rcw&amp;s\"/></div></a></td></tr><tr><td><a href=\"/url?q=https://www.apple.com/cm/newsroom/2024/09/apple-debuts-iphone-16-pro-iphone-16-pro-max/&amp;sa=U&amp;ved=2ahUKEwiB-omzntqNAxX1XWwGHVCEOGQQr4kDegQIEhAC&amp;usg=AOvVaw0ZRTHTA_8dy1w3m47eauQ1\"><div class=\"AlD19d\"> <span class=\"qXLe6d x3G5ab\"> <span class=\"fYyStc\">Apple debuts iPhone 16 Pro...</span> </span> <span class=\"qXLe6d F9iS2e\"> <span class=\"fYyStc\">www.apple.com</span> </span> </div></a></td></tr></table></div></div> </div> </div></td></tr><tr><td align=\"center\" class=\"e3goi\"><div class=\"jjVJ4e\"> <div> <div class=\"lIMUZd\"><div><table class=\"RntSmf\"><tr><td><a href=\"/url?q=https://iplanet.one/products/iphone-16-myec3hn-a&amp;sa=U&amp;ved=2ahUKEwiB-omzntqNAxX1XWwGHVCEOGQQqoUBegQIChAB&amp;usg=AOvVaw0L_diqu7hX2Z8A46EUfUZY\"><div class=\"kCmkOe\"><img alt=\"\" class=\"DS1iW\" src=\"https://encrypted-tbn0.gstatic.com/images?q=tbn:ANd9GcST6HJ9G2eV5KAlQfxTz6V5qXWb4fmHdGXZ7xDH06XenW2LJLc631We_3DLbg&amp;s\"/></div></a></td></tr><tr><td><a href=\"/url?q=https://iplanet.one/products/iphone-16-myec3hn-a&amp;sa=U&amp;ved=2ahUKEwiB-omzntqNAxX1XWwGHVCEOGQQr4kDegQIChAC&amp;usg=AOvVaw1rVj3V7dhTdlzmLEsExu0y\"><div class=\"AlD19d\"> <span class=\"qXLe6d x3G5ab\"> <span class=\"fYyStc\">Buy iPhone 16 Ultramarine...</span> </span> <span class=\"qXLe6d F9iS2e\"> <span class=\"fYyStc\">iplanet.one</span> </span> </div></a></td></tr></table></div></div> </div> </div></td><td align=\"center\" class=\"e3goi\"><div class=\"jjVJ4e\"> <div> <div class=\"lIMUZd\"><div><table class=\"RntSmf\"><tr><td><a href=\"/url?q=https://inspireonline.in/products/iphone-16-myea3hn-a&amp;sa=U&amp;ved=2ahUKEwiB-omzntqNAxX1XWwGHVCEOGQQqoUBegQIDhAB&amp;usg=AOvVaw3-2bDgb6GBJ4-5r-y4K9NJ\"><div class=\"kCmkOe\"><img alt=\"\" class=\"DS1iW\" src=\"https://encrypted-tbn0.gstatic.com/images?q=tbn:ANd9GcR5z27AXADPEb4rN6ldVlpECrt8xdRV80S39cdEAqJanRif1Tm2P9jNdquVfw&amp;s\"/></div></a></td></tr><tr><td><a href=\"/url?q=https://inspireonline.in/products/iphone-16-myea3hn-a&amp;sa=U&amp;ved=2ahUKEwiB-omzntqNAxX1XWwGHVCEOGQQr4kDegQIDhAC&amp;usg=AOvVaw3CUdFGuj3DR-hUHXNg4vaD\"><div class=\"AlD19d\"> <span class=\"qXLe6d x3G5ab\"> <span class=\"fYyStc\">iPhone 16 128GB Pink –...</span> </span> <span class=\"qXLe6d F9iS2e\"> <span class=\"fYyStc\">inspireonline.in</span> </span> </div></a></td></tr></table></div></div> </div> </div></td><td align=\"center\" class=\"e3goi\"><div class=\"jjVJ4e\"> <div> <div class=\"lIMUZd\"><div><table class=\"RntSmf\"><tr><td><a href=\"/url?q=https://inventstore.in/product/iphone-16-pro/&amp;sa=U&amp;ved=2ahUKEwiB-omzntqNAxX1XWwGHVCEOGQQqoUBegQIDBAB&amp;usg=AOvVaw1oYyG_HrmE4eZ2jM5jBIM-\"><div class=\"kCmkOe\"><img alt=\"\" class=\"DS1iW\" src=\"https://encrypted-tbn0.gstatic.com/images?q=tbn:ANd9GcS8Y3p8NBfA49CDLSPd1WJO4qkdt8O012xIVgYFCz5j2rS-cD6n83TSPhXjVHw&amp;s\"/></div></a></td></tr><tr><td><a href=\"/url?q=https://inventstore.in/product/iphone-16-pro/&amp;sa=U&amp;ved=2ahUKEwiB-omzntqNAxX1XWwGHVCEOGQQr4kDegQIDBAC&amp;usg=AOvVaw236LUEdeDRNbkasogqkZp-\"><div class=\"AlD19d\"> <span class=\"qXLe6d x3G5ab\"> <span class=\"fYyStc\">Buy Apple iPhone 16 Pro at...</span> </span> <span class=\"qXLe6d F9iS2e\"> <span class=\"fYyStc\">inventstore.in</span> </span> </div></a></td></tr></table></div></div> </div> </div></td><td align=\"center\" class=\"e3goi\"><div class=\"jjVJ4e\"> <div> <div class=\"lIMUZd\"><div><table class=\"RntSmf\"><tr><td><a href=\"/url?q=https://www.amazon.in/iPhone-16-128-GB-Ultramarine/dp/B0DGJ7TGDR&amp;sa=U&amp;ved=2ahUKEwiB-omzntqNAxX1XWwGHVCEOGQQqoUBegQICxAB&amp;usg=AOvVaw1C0phrr9IpMduImI9C2ebt\"><div class=\"kCmkOe\"><img alt=\"\" class=\"DS1iW\" src=\"https://encrypted-tbn0.gstatic.com/images?q=tbn:ANd9GcTUJlRCPUiEGZULlnH5KUU-ckL5WBNEYvtue0OsNwEWFW7WcBTgb8oTjqhJk1U&amp;s\"/></div></a></td></tr><tr><td><a href=\"/url?q=https://www.amazon.in/iPhone-16-128-GB-Ultramarine/dp/B0DGJ7TGDR&amp;sa=U&amp;ved=2ahUKEwiB-omzntqNAxX1XWwGHVCEOGQQr4kDegQICxAC&amp;usg=AOvVaw1wS738-qKv8V0r2PjTpOm-\"><div class=\"AlD19d\"> <span class=\"qXLe6d x3G5ab\"> <span class=\"fYyStc\">iPhone 16 128 GB: 5G Mobile...</span> </span> <span class=\"qXLe6d F9iS2e\"> <span class=\"fYyStc\">www.amazon.in</span> </span> </div></a></td></tr></table></div></div> </div> </div></td></tr><tr><td align=\"center\" class=\"e3goi\"><div class=\"jjVJ4e\"> <div> <div class=\"lIMUZd\"><div><table class=\"RntSmf\"><tr><td><a href=\"/url?q=https://www.apple.com/in/shop/buy-iphone/iphone-16/6.1%2522-display-128gb-black&amp;sa=U&amp;ved=2ahUKEwiB-omzntqNAxX1XWwGHVCEOGQQqoUBegQIERAB&amp;usg=AOvVaw0litPq92J9GZqufVKAWES6\"><div class=\"kCmkOe\"><img alt=\"\" class=\"DS1iW\" src=\"https://encrypted-tbn0.gstatic.com/images?q=tbn:ANd9GcShDvDl2lDtl7FbV10jh57s88CSuboSCR0GFC1DXusxD7mkVtLHQwA7y113eQ&amp;s\"/></div></a></td></tr><tr><td><a href=\"/url?q=https://www.apple.com/in/shop/buy-iphone/iphone-16/6.1%2522-display-128gb-black&amp;sa=U&amp;ved=2ahUKEwiB-omzntqNAxX1XWwGHVCEOGQQr4kDegQIERAC&amp;usg=AOvVaw3PRJOC7CKaCvGqlYR_VB0I\"><div class=\"AlD19d\"> <span class=\"qXLe6d x3G5ab\"> <span class=\"fYyStc\">Buy iPhone 16 128GB Black -...</span> </span> <span class=\"qXLe6d F9iS2e\"> <span class=\"fYyStc\">www.apple.com</span> </span> </div></a></td></tr></table></div></div> </div> </div></td><td align=\"center\" class=\"e3goi\"><div class=\"jjVJ4e\"> <div> <div class=\"lIMUZd\"><div><table class=\"RntSmf\"><tr><td><a href=\"/url?q=https://www.croma.com/apple-iphone-16-128gb-white-/p/309692&amp;sa=U&amp;ved=2ahUKEwiB-omzntqNAxX1XWwGHVCEOGQQqoUBegQIDxAB&amp;usg=AOvVaw3tztRA1GX0daWaVgauTxMv\"><div class=\"kCmkOe\"><img alt=\"\" class=\"DS1iW\" src=\"https://encrypted-tbn0.gstatic.com/images?q=tbn:ANd9GcShkrDWDZ9WG3J0APqHwihNzXVxA53lxhD7su8EnqW5JOEPpvB10BPTMaY69w&amp;s\"/></div></a></td></tr><tr><td><a href=\"/url?q=https://www.croma.com/apple-iphone-16-128gb-white-/p/309692&amp;sa=U&amp;ved=2ahUKEwiB-omzntqNAxX1XWwGHVCEOGQQr4kDegQIDxAC&amp;usg=AOvVaw3Xokc1li-DPiOrVhjUm03b\"><div class=\"AlD19d\"> <span class=\"qXLe6d x3G5ab\"> <span class=\"fYyStc\">Buy Apple iPhone 16 (128GB,...</span> </span> <span class=\"qXLe6d F9iS2e\"> <span class=\"fYyStc\">www.croma.com</span> </span> </div></a></td></tr></table></div></div> </div> </div></td><td align=\"center\" class=\"e3goi\"><div class=\"jjVJ4e\"> <div> <div class=\"lIMUZd\"><div><table class=\"RntSmf\"><tr><td><a href=\"/url?q=https://www.designinfo.in/p/apple-iphone-16-pro-128gb-black-titanium/&amp;sa=U&amp;ved=2ahUKEwiB-omzntqNAxX1XWwGHVCEOGQQqoUBegQIEBAB&amp;usg=AOvVaw1XDUV8r1wMLursGEcIbSoL\"><div class=\"kCmkOe\"><img alt=\"\" class=\"DS1iW\" src=\"https://encrypted-tbn0.gstatic.com/images?q=tbn:ANd9GcQFgnWE5kP4nJ3Sjny07-PUwGGbaSDtnbhsG_sVF5BS5yFeRQ7b5y7JD0u5Wg&amp;s\"/></div></a></td></tr><tr><td><a href=\"/url?q=https://www.designinfo.in/p/apple-iphone-16-pro-128gb-black-titanium/&amp;sa=U&amp;ved=2ahUKEwiB-omzntqNAxX1XWwGHVCEOGQQr4kDegQIEBAC&amp;usg=AOvVaw1eNfWnTJfwtkJE-0gvdA7J\"><div class=\"AlD19d\"> <span class=\"qXLe6d x3G5ab\"> <span class=\"fYyStc\">Apple iPhone 16 Pro (128GB,...</span> </span> <span class=\"qXLe6d F9iS2e\"> <span class=\"fYyStc\">www.designinfo.in</span> </span> </div></a></td></tr></table></div></div> </div> </div></td><td align=\"center\" class=\"e3goi\"><div class=\"jjVJ4e\"> <div> <div class=\"lIMUZd\"><div><table class=\"RntSmf\"><tr><td><a href=\"/url?q=https://iplanet.one/products/iphone-16-pro-mywx3hn-a&amp;sa=U&amp;ved=2ahUKEwiB-omzntqNAxX1XWwGHVCEOGQQqoUBegQIDRAB&amp;usg=AOvVaw2r0Iu0QVx3MV6d2zEcKnUC\"><div class=\"kCmkOe\"><img alt=\"\" class=\"DS1iW\" src=\"https://encrypted-tbn0.gstatic.com/images?q=tbn:ANd9GcT8Zy7N92MYWjVvU5VeIaIk_mJ5zmDr9VJ5JvONUjBDIKxu1zKaeJNashgcSR8&amp;s\"/></div></a></td></tr><tr><td><a href=\"/url?q=https://iplanet.one/products/iphone-16-pro-mywx3hn-a&amp;sa=U&amp;ved=2ahUKEwiB-omzntqNAxX1XWwGHVCEOGQQr4kDegQIDRAC&amp;usg=AOvVaw3xT-e7mYKIyC-yl8nkl-9N\"><div class=\"AlD19d\"> <span class=\"qXLe6d x3G5ab\"> <span class=\"fYyStc\">iPhone 16 Pro Max 256GB...</span> </span> <span class=\"qXLe6d F9iS2e\"> <span class=\"fYyStc\">iplanet.one</span> </span> </div></a></td></tr></table></div></div> </div> </div></td></tr><tr><td align=\"center\" class=\"e3goi\"><div class=\"jjVJ4e\"> <div> <div class=\"lIMUZd\"><div><table class=\"RntSmf\"><tr><td><a href=\"/url?q=https://www.goodhousekeeping.com/uk/product-reviews/tech/a62706354/apple-iphone-16-review/&amp;sa=U&amp;ved=2ahUKEwiB-omzntqNAxX1XWwGHVCEOGQQqoUBegQIARAB&amp;usg=AOvVaw2H6LHX3gVn7QgLz0163mHB\"><div class=\"kCmkOe\"><img alt=\"\" class=\"DS1iW\" src=\"https://encrypted-tbn0.gstatic.com/images?q=tbn:ANd9GcRwKY7xn9qjOLVLLGqAKmot0cE1hOcoHZ7zgiYlMpOGPGUvP23JTksE-TIKiA&amp;s\"/></div></a></td></tr><tr><td><a href=\"/url?q=https://www.goodhousekeeping.com/uk/product-reviews/tech/a62706354/apple-iphone-16-review/&amp;sa=U&amp;ved=2ahUKEwiB-omzntqNAxX1XWwGHVCEOGQQr4kDegQIARAC&amp;usg=AOvVaw0EboPtxB90rOh74JAedF_b\"><div class=\"AlD19d\"> <span class=\"qXLe6d x3G5ab\"> <span class=\"fYyStc\">My verdict on Apple's new...</span> </span> <span class=\"qXLe6d F9iS2e\"> <span class=\"fYyStc\">www.goodhousekeeping.com</span> </span> </div></a></td></tr></table></div></div> </div> </div></td><td align=\"center\" class=\"e3goi\"><div class=\"jjVJ4e\"> <div> <div class=\"lIMUZd\"><div><table class=\"RntSmf\"><tr><td><a href=\"/url?q=https://www.flipkart.com/apple-iphone-16-white-128-gb/p/itm7c0281cd247be%3Fpid%3DMOBH4DQF849HCG6G%26lid%3DLSTMOBH4DQF849HCG6GQXXN1Z%26marketplace%3DFLIPKART%26fm%3Dneo%252Fmerchandising%26iid%3DM_92949322-d6d3-4e78-9afc-0d350bc71df9_30_QBM1SMZJ3K19_MC.MOBH4DQF849HCG6G%26ppt%3DNone%26ppn%3DNone%26ssid%3Dpn95vnv2b40000001726529653706%26otracker%3Dclp_pmu_v2_Apple%252BSmartphones_1_30.productCard.PMU_V2_Apple%252BiPhone%252B16%252B%252528White%25252C%252B128%252BGB%252529_mobiles-goat-sale-k2ssj3-store_MOBH4DQF849HCG6G_neo%252Fmerchandising_0%26otracker1%3Dclp_pmu_v2_PINNED_neo%252Fmerchandising_Apple%252BSmartphones_LIST_productCard_cc_1_NA_view-all%26cid%3DMOBH4DQF849HCG6G&amp;sa=U&amp;ved=2ahUKEwiB-omzntqNAxX1XWwGHVCEOGQQqoUBegQIAhAB&amp;usg=AOvVaw1pX_J-mXttY3010ODuwo_6\"><div class=\"kCmkOe\"><img alt=\"\" class=\"DS1iW\" src=\"https://encrypted-tbn0.gstatic.com/images?q=tbn:ANd9GcT4w3f_rswks6ySu7CU_kRKmRwsn4B1trfiKrei_4btDE_CIUzx9h92c8ctWQ&amp;s\"/></div></a></td></tr><tr><td><a href=\"/url?q=https://www.flipkart.com/apple-iphone-16-white-128-gb/p/itm7c0281cd247be%3Fpid%3DMOBH4DQF849HCG6G%26lid%3DLSTMOBH4DQF849HCG6GQXXN1Z%26marketplace%3DFLIPKART%26fm%3Dneo%252Fmerchandising%26iid%3DM_92949322-d6d3-4e78-9afc-0d350bc71df9_30_QBM1SMZJ3K19_MC.MOBH4DQF849HCG6G%26ppt%3DNone%26ppn%3DNone%26ssid%3Dpn95vnv2b40000001726529653706%26otracker%3Dclp_pmu_v2_Apple%252BSmartphones_1_30.productCard.PMU_V2_Apple%252BiPhone%252B16%252B%252528White%25252C%252B128%252BGB%252529_mobiles-goat-sale-k2ssj3-store_MOBH4DQF849HCG6G_neo%252Fmerchandising_0%26otracker1%3Dclp_pmu_v2_PINNED_neo%252Fmerchandising_Apple%252BSmartphones_LIST_productCard_cc_1_NA_view-all%26cid%3DMOBH4DQF849HCG6G&amp;sa=U&amp;ved=2ahUKEwiB-omzntqNAxX1XWwGHVCEOGQQr4kDegQIAhAC&amp;usg=AOvVaw0zVKQ9Q7QYSdqpSdOjxe-7\"><div class=\"AlD19d\"> <span class=\"qXLe6d x3G5ab\"> <span class=\"fYyStc\">-original-imah4jyfveygyubc....</span> </span> <span class=\"qXLe6d F9iS2e\"> <span class=\"fYyStc\">www.flipkart.com</span> </span> </div></a></td></tr></table></div></div> </div> </div></td><td align=\"center\" class=\"e3goi\"><div class=\"jjVJ4e\"> <div> <div class=\"lIMUZd\"><div><table class=\"RntSmf\"><tr><td><a href=\"/url?q=https://www.macrumors.com/roundup/iphone-16/&amp;sa=U&amp;ved=2ahUKEwiB-omzntqNAxX1XWwGHVCEOGQQqoUBegQICRAB&amp;usg=AOvVaw0f3ichTncaj_CDr0-1a9zy\"><div class=\"kCmkOe\"><img alt=\"\" class=\"DS1iW\" src=\"https://encrypted-tbn0.gstatic.com/images?q=tbn:ANd9GcSgBbTUTc21xarN6Rk6nKlgUVH7VBdqml6BGduULFGXgL4CQIEBcF-KhsLnFA&amp;s\"/></div></a></td></tr><tr><td><a href=\"/url?q=https://www.macrumors.com/roundup/iphone-16/&amp;sa=U&amp;ved=2ahUKEwiB-omzntqNAxX1XWwGHVCEOGQQr4kDegQICRAC&amp;usg=AOvVaw1LoeO_ul0MuSzTa6bFNJt0\"><div class=\"AlD19d\"> <span class=\"qXLe6d x3G5ab\"> <span class=\"fYyStc\">iPhone 16: Should You Buy?...</span> </span> <span class=\"qXLe6d F9iS2e\"> <span class=\"fYyStc\">www.macrumors.com</span> </span> </div></a></td></tr></table></div></div> </div> </div></td><td align=\"center\" class=\"e3goi\"><div class=\"jjVJ4e\"> <div> <div class=\"lIMUZd\"><div><table class=\"RntSmf\"><tr><td><a href=\"/url?q=https://www.cnet.com/tech/mobile/the-iphone-16-debut-hours-away-heres-what-we-expect-apple-to-announce/&amp;sa=U&amp;ved=2ahUKEwiB-omzntqNAxX1XWwGHVCEOGQQqoUBegQICBAB&amp;usg=AOvVaw3rPedVNBMW2ehPpF4rdisq\"><div class=\"kCmkOe\"><img alt=\"\" class=\"DS1iW\" src=\"https://encrypted-tbn0.gstatic.com/images?q=tbn:ANd9GcT2xUbRKntxnlR35SRfdXaSOa6G53KRz0NtahJ4Xmy2JEvhppHzmJ7l72OQCdA&amp;s\"/></div></a></td></tr><tr><td><a href=\"/url?q=https://www.cnet.com/tech/mobile/the-iphone-16-debut-hours-away-heres-what-we-expect-apple-to-announce/&amp;sa=U&amp;ved=2ahUKEwiB-omzntqNAxX1XWwGHVCEOGQQr4kDegQICBAC&amp;usg=AOvVaw3ILZJr3vxve2Gxftiui4BK\"><div class=\"AlD19d\"> <span class=\"qXLe6d x3G5ab\"> <span class=\"fYyStc\">iPhone 16: Every Feature We...</span> </span> <span class=\"qXLe6d F9iS2e\"> <span class=\"fYyStc\">www.cnet.com</span> </span> </div></a></td></tr></table></div></div> </div> </div></td></tr><tr><td align=\"center\" class=\"e3goi\"><div class=\"jjVJ4e\"> <div> <div class=\"lIMUZd\"><div><table class=\"RntSmf\"><tr><td><a href=\"/url?q=https://www.theverge.com/24247479/apple-iphone-16-plus-review-camera-control-screen-battery&amp;sa=U&amp;ved=2ahUKEwiB-omzntqNAxX1XWwGHVCEOGQQqoUBegQIBxAB&amp;usg=AOvVaw388OkMWaQnVsBW941-lTfr\"><div class=\"kCmkOe\"><img alt=\"\" class=\"DS1iW\" src=\"https://encrypted-tbn0.gstatic.com/images?q=tbn:ANd9GcTEiU8T09XzQC2M8hDqNT89FAL1cDdjuoKzhgVIseL1Xldr5SwIq3F7EKXdow&amp;s\"/></div></a></td></tr><tr><td><a href=\"/url?q=https://www.theverge.com/24247479/apple-iphone-16-plus-review-camera-control-screen-battery&amp;sa=U&amp;ved=2ahUKEwiB-omzntqNAxX1XWwGHVCEOGQQr4kDegQIBxAC&amp;usg=AOvVaw3heFDJZ1BY28CfjmOnO_y1\"><div class=\"AlD19d\"> <span class=\"qXLe6d x3G5ab\"> <span class=\"fYyStc\">Apple iPhone 16 and 16 Plus...</span> </span> <span class=\"qXLe6d F9iS2e\"> <span class=\"fYyStc\">www.theverge.com</span> </span> </div></a></td></tr></table></div></div> </div> </div></td><td align=\"center\" class=\"e3goi\"><div class=\"jjVJ4e\"> <div> <div class=\"lIMUZd\"><div><table class=\"RntSmf\"><tr><td><a href=\"/url?q=https://www.youtube.com/watch%3Fv%3DGDlkCkcIqTs&amp;sa=U&amp;ved=2ahUKEwiB-omzntqNAxX1XWwGHVCEOGQQqoUBegQIBBAB&amp;usg=AOvVaw0XzoZ_dhtmAfiwYypMoI1V\"><div class=\"kCmkOe\"><img alt=\"\" class=\"DS1iW\" src=\"https://encrypted-tbn0.gstatic.com/images?q=tbn:ANd9GcRdbVYOI4KzB1bJj59m3fZBdx3uHuNPLTzBsQB0Lu7xZTraSPUNzHqkFNbbsg&amp;s\"/></div></a></td></tr><tr><td><a href=\"/url?q=https://www.youtube.com/watch%3Fv%3DGDlkCkcIqTs&amp;sa=U&amp;ved=2ahUKEwiB-omzntqNAxX1XWwGHVCEOGQQr4kDegQIBBAC&amp;usg=AOvVaw2-rTR6ouLBK2t0tl7x0IHb\"><div class=\"AlD19d\"> <span class=\"qXLe6d x3G5ab\"> <span class=\"fYyStc\">Introducing iPhone 16 |...</span> </span> <span class=\"qXLe6d F9iS2e\"> <span class=\"fYyStc\">www.youtube.com</span> </span> </div></a></td></tr></table></div></div> </div> </div></td><td align=\"center\" class=\"e3goi\"><div class=\"jjVJ4e\"> <div> <div class=\"lIMUZd\"><div><table class=\"RntSmf\"><tr><td><a href=\"/url?q=https://www.techradar.com/news/iphone-16&amp;sa=U&amp;ved=2ahUKEwiB-omzntqNAxX1XWwGHVCEOGQQqoUBegQIBhAB&amp;usg=AOvVaw0pX4FBdxtWPQEBsaTT_fqu\"><div class=\"kCmkOe\"><img alt=\"\" class=\"DS1iW\" src=\"https://encrypted-tbn0.gstatic.com/images?q=tbn:ANd9GcT_Y8p-bwBgF73y8V8aX_DhcG2bU5r2EGJOUaC-1k5T7-GUsUmI3akiRSlMIQ&amp;s\"/></div></a></td></tr><tr><td><a href=\"/url?q=https://www.techradar.com/news/iphone-16&amp;sa=U&amp;ved=2ahUKEwiB-omzntqNAxX1XWwGHVCEOGQQr4kDegQIBhAC&amp;usg=AOvVaw3TV1nA_Doaskrbe3CjFXkX\"><div class=\"AlD19d\"> <span class=\"qXLe6d x3G5ab\"> <span class=\"fYyStc\">iPhone 16: price, cameras,...</span> </span> <span class=\"qXLe6d F9iS2e\"> <span class=\"fYyStc\">www.techradar.com</span> </span> </div></a></td></tr></table></div></div> </div> </div></td><td align=\"center\" class=\"e3goi\"><div class=\"jjVJ4e\"> <div> <div class=\"lIMUZd\"><div><table class=\"RntSmf\"><tr><td><a href=\"/url?q=https://www.airtel.in/blog/mobile-phones/iphone-15-vs-iphone-16-should-you-upgrade/&amp;sa=U&amp;ved=2ahUKEwiB-omzntqNAxX1XWwGHVCEOGQQqoUBegQIBRAB&amp;usg=AOvVaw1N7VuT0WKz_3a0s4U57ZbE\"><div class=\"kCmkOe\"><img alt=\"\" class=\"DS1iW\" src=\"https://encrypted-tbn0.gstatic.com/images?q=tbn:ANd9GcRMKTWSCESJvowoq8YUYO56zq4xhfIWo2KrMp53x194doOzQ4E5CDCvAvZixnY&amp;s\"/></div></a></td></tr><tr><td><a href=\"/url?q=https://www.airtel.in/blog/mobile-phones/iphone-15-vs-iphone-16-should-you-upgrade/&amp;sa=U&amp;ved=2ahUKEwiB-omzntqNAxX1XWwGHVCEOGQQr4kDegQIBRAC&amp;usg=AOvVaw3B7jyyTtprdwTilNbDZqho\"><div class=\"AlD19d\"> <span class=\"qXLe6d x3G5ab\"> <span class=\"fYyStc\">iPhone 15 vs iPhone 16: Key...</span> </span> <span class=\"qXLe6d F9iS2e\"> <span class=\"fYyStc\">www.airtel.in</span> </span> </div></a></td></tr></table></div></div> </div> </div></td></tr></table></div><table class=\"uZgmoc\"><tbody><td><a class=\"frGj1b\" href=\"/search?q=iphone+16&amp;sca_esv=9f05e2405697a5fa&amp;ie=UTF-8&amp;tbm=isch&amp;ei=iYdBaMGRIfW7seMP0IjioQY&amp;start=20&amp;sa=N\">Next &gt;</a></td></tbody></table><br/><div class=\"TuS8Ad\" data-ved=\"0ahUKEwiB-omzntqNAxX1XWwGHVCEOGQQpyoIRQ\"><style>.VYM29{font-weight:bold}</style><div align=\"center\" class=\"HddGcc\"><span class=\"VYM29\">Haldwani, Uttarakhand</span><span> - </span><span>From your IP address</span><span> - </span><a href=\"/url?q=https://support.google.com/websearch%3Fp%3Dws_settings_location%26hl%3Den-IN&amp;opi=89978449&amp;sa=U&amp;ved=0ahUKEwiB-omzntqNAxX1XWwGHVCEOGQQty4IRg&amp;usg=AOvVaw2PnbEQ7xv1-5MGW9KFZAYY\">Learn more</a></div><div align=\"center\"><a class=\"rEM8G\" href=\"/url?q=https://accounts.google.com/ServiceLogin%3Fcontinue%3Dhttps://www.google.com/search%253Fq%253Diphone%252B16%252B%2526sxsrf%253DAJOqlzUuff1RXi2mm8I_OqOwT9VjfIDL7w:1676996143273%2526source%253Dlnms%2526tbm%253Disch%2526sa%253DX%2526ved%253D2ahUKEwiq-qK7gaf9AhX%26hl%3Den&amp;opi=89978449&amp;sa=U&amp;ved=0ahUKEwiB-omzntqNAxX1XWwGHVCEOGQQxs8CCEc&amp;usg=AOvVaw0p6I-ZqZT8FXd1qbHmjmwk\">Sign in</a></div><div><table class=\"bookcf\"><tbody class=\"InWNIe\"><tr><td><a class=\"rEM8G\" href=\"https://www.google.com/preferences?hl=en&amp;sa=X&amp;ved=0ahUKEwiB-omzntqNAxX1XWwGHVCEOGQQv5YECEg\">Settings</a></td><td><a class=\"rEM8G\" href=\"https://www.google.com/intl/en_in/policies/privacy/\">Privacy</a></td><td><a class=\"rEM8G\" href=\"https://www.google.com/intl/en_in/policies/terms/\">Terms</a></td></tr></tbody></table></div></div><div> </div></body></html>"
      ]
     },
     "execution_count": 7,
     "metadata": {},
     "output_type": "execute_result"
    }
   ],
   "source": [
    "soup"
   ]
  },
  {
   "cell_type": "code",
   "execution_count": 8,
   "id": "02a7b2e1-a7e3-4549-997a-945d679560ca",
   "metadata": {},
   "outputs": [],
   "source": [
    "image_tags = soup.find_all(\"img\")"
   ]
  },
  {
   "cell_type": "code",
   "execution_count": 9,
   "id": "d03e14ca-22de-4778-bda6-b743d3696aaa",
   "metadata": {},
   "outputs": [
    {
     "data": {
      "text/plain": [
       "[<img alt=\"Google\" class=\"kgJEQe\" src=\"/images/branding/searchlogo/1x/googlelogo_desk_heirloom_color_150x55dp.gif\"/>,\n",
       " <img alt=\"\" class=\"DS1iW\" src=\"https://encrypted-tbn0.gstatic.com/images?q=tbn:ANd9GcSO6pS5Z4uEerMAiWWhH5GLyI_H5Utxo3_U7vTy-47rkO9tzdFnh9f52N6A4ao&amp;s\"/>,\n",
       " <img alt=\"\" class=\"DS1iW\" src=\"https://encrypted-tbn0.gstatic.com/images?q=tbn:ANd9GcSM3ihqOrQOhzvBJ34Nx2yXaBeMKciCUY0hU8xiNlrJ8nUMjc7n2PVB5hS6fw&amp;s\"/>,\n",
       " <img alt=\"\" class=\"DS1iW\" src=\"https://encrypted-tbn0.gstatic.com/images?q=tbn:ANd9GcRscawrzcI5I8cEvA2EkLkYqRsgW6NsWUbqqVuR3ncz1MI7dOHdN5NnFIE4Z70&amp;s\"/>,\n",
       " <img alt=\"\" class=\"DS1iW\" src=\"https://encrypted-tbn0.gstatic.com/images?q=tbn:ANd9GcQ6GNA_gFwWpg9ghAslrD63C_Wdk13glEt2xSfslhHI1ggRw07Z5Anrqd-Rcw&amp;s\"/>,\n",
       " <img alt=\"\" class=\"DS1iW\" src=\"https://encrypted-tbn0.gstatic.com/images?q=tbn:ANd9GcST6HJ9G2eV5KAlQfxTz6V5qXWb4fmHdGXZ7xDH06XenW2LJLc631We_3DLbg&amp;s\"/>,\n",
       " <img alt=\"\" class=\"DS1iW\" src=\"https://encrypted-tbn0.gstatic.com/images?q=tbn:ANd9GcR5z27AXADPEb4rN6ldVlpECrt8xdRV80S39cdEAqJanRif1Tm2P9jNdquVfw&amp;s\"/>,\n",
       " <img alt=\"\" class=\"DS1iW\" src=\"https://encrypted-tbn0.gstatic.com/images?q=tbn:ANd9GcS8Y3p8NBfA49CDLSPd1WJO4qkdt8O012xIVgYFCz5j2rS-cD6n83TSPhXjVHw&amp;s\"/>,\n",
       " <img alt=\"\" class=\"DS1iW\" src=\"https://encrypted-tbn0.gstatic.com/images?q=tbn:ANd9GcTUJlRCPUiEGZULlnH5KUU-ckL5WBNEYvtue0OsNwEWFW7WcBTgb8oTjqhJk1U&amp;s\"/>,\n",
       " <img alt=\"\" class=\"DS1iW\" src=\"https://encrypted-tbn0.gstatic.com/images?q=tbn:ANd9GcShDvDl2lDtl7FbV10jh57s88CSuboSCR0GFC1DXusxD7mkVtLHQwA7y113eQ&amp;s\"/>,\n",
       " <img alt=\"\" class=\"DS1iW\" src=\"https://encrypted-tbn0.gstatic.com/images?q=tbn:ANd9GcShkrDWDZ9WG3J0APqHwihNzXVxA53lxhD7su8EnqW5JOEPpvB10BPTMaY69w&amp;s\"/>,\n",
       " <img alt=\"\" class=\"DS1iW\" src=\"https://encrypted-tbn0.gstatic.com/images?q=tbn:ANd9GcQFgnWE5kP4nJ3Sjny07-PUwGGbaSDtnbhsG_sVF5BS5yFeRQ7b5y7JD0u5Wg&amp;s\"/>,\n",
       " <img alt=\"\" class=\"DS1iW\" src=\"https://encrypted-tbn0.gstatic.com/images?q=tbn:ANd9GcT8Zy7N92MYWjVvU5VeIaIk_mJ5zmDr9VJ5JvONUjBDIKxu1zKaeJNashgcSR8&amp;s\"/>,\n",
       " <img alt=\"\" class=\"DS1iW\" src=\"https://encrypted-tbn0.gstatic.com/images?q=tbn:ANd9GcRwKY7xn9qjOLVLLGqAKmot0cE1hOcoHZ7zgiYlMpOGPGUvP23JTksE-TIKiA&amp;s\"/>,\n",
       " <img alt=\"\" class=\"DS1iW\" src=\"https://encrypted-tbn0.gstatic.com/images?q=tbn:ANd9GcT4w3f_rswks6ySu7CU_kRKmRwsn4B1trfiKrei_4btDE_CIUzx9h92c8ctWQ&amp;s\"/>,\n",
       " <img alt=\"\" class=\"DS1iW\" src=\"https://encrypted-tbn0.gstatic.com/images?q=tbn:ANd9GcSgBbTUTc21xarN6Rk6nKlgUVH7VBdqml6BGduULFGXgL4CQIEBcF-KhsLnFA&amp;s\"/>,\n",
       " <img alt=\"\" class=\"DS1iW\" src=\"https://encrypted-tbn0.gstatic.com/images?q=tbn:ANd9GcT2xUbRKntxnlR35SRfdXaSOa6G53KRz0NtahJ4Xmy2JEvhppHzmJ7l72OQCdA&amp;s\"/>,\n",
       " <img alt=\"\" class=\"DS1iW\" src=\"https://encrypted-tbn0.gstatic.com/images?q=tbn:ANd9GcTEiU8T09XzQC2M8hDqNT89FAL1cDdjuoKzhgVIseL1Xldr5SwIq3F7EKXdow&amp;s\"/>,\n",
       " <img alt=\"\" class=\"DS1iW\" src=\"https://encrypted-tbn0.gstatic.com/images?q=tbn:ANd9GcRdbVYOI4KzB1bJj59m3fZBdx3uHuNPLTzBsQB0Lu7xZTraSPUNzHqkFNbbsg&amp;s\"/>,\n",
       " <img alt=\"\" class=\"DS1iW\" src=\"https://encrypted-tbn0.gstatic.com/images?q=tbn:ANd9GcT_Y8p-bwBgF73y8V8aX_DhcG2bU5r2EGJOUaC-1k5T7-GUsUmI3akiRSlMIQ&amp;s\"/>,\n",
       " <img alt=\"\" class=\"DS1iW\" src=\"https://encrypted-tbn0.gstatic.com/images?q=tbn:ANd9GcRMKTWSCESJvowoq8YUYO56zq4xhfIWo2KrMp53x194doOzQ4E5CDCvAvZixnY&amp;s\"/>]"
      ]
     },
     "execution_count": 9,
     "metadata": {},
     "output_type": "execute_result"
    }
   ],
   "source": [
    "image_tags"
   ]
  },
  {
   "cell_type": "code",
   "execution_count": 10,
   "id": "44a063b2-593a-46e9-8f29-2ff8a740a5f0",
   "metadata": {},
   "outputs": [],
   "source": [
    "del image_tags[0]"
   ]
  },
  {
   "cell_type": "code",
   "execution_count": 11,
   "id": "687fde0f-719c-4b51-b79b-f214ae83fc2f",
   "metadata": {},
   "outputs": [
    {
     "data": {
      "text/plain": [
       "[<img alt=\"\" class=\"DS1iW\" src=\"https://encrypted-tbn0.gstatic.com/images?q=tbn:ANd9GcSO6pS5Z4uEerMAiWWhH5GLyI_H5Utxo3_U7vTy-47rkO9tzdFnh9f52N6A4ao&amp;s\"/>,\n",
       " <img alt=\"\" class=\"DS1iW\" src=\"https://encrypted-tbn0.gstatic.com/images?q=tbn:ANd9GcSM3ihqOrQOhzvBJ34Nx2yXaBeMKciCUY0hU8xiNlrJ8nUMjc7n2PVB5hS6fw&amp;s\"/>,\n",
       " <img alt=\"\" class=\"DS1iW\" src=\"https://encrypted-tbn0.gstatic.com/images?q=tbn:ANd9GcRscawrzcI5I8cEvA2EkLkYqRsgW6NsWUbqqVuR3ncz1MI7dOHdN5NnFIE4Z70&amp;s\"/>,\n",
       " <img alt=\"\" class=\"DS1iW\" src=\"https://encrypted-tbn0.gstatic.com/images?q=tbn:ANd9GcQ6GNA_gFwWpg9ghAslrD63C_Wdk13glEt2xSfslhHI1ggRw07Z5Anrqd-Rcw&amp;s\"/>,\n",
       " <img alt=\"\" class=\"DS1iW\" src=\"https://encrypted-tbn0.gstatic.com/images?q=tbn:ANd9GcST6HJ9G2eV5KAlQfxTz6V5qXWb4fmHdGXZ7xDH06XenW2LJLc631We_3DLbg&amp;s\"/>,\n",
       " <img alt=\"\" class=\"DS1iW\" src=\"https://encrypted-tbn0.gstatic.com/images?q=tbn:ANd9GcR5z27AXADPEb4rN6ldVlpECrt8xdRV80S39cdEAqJanRif1Tm2P9jNdquVfw&amp;s\"/>,\n",
       " <img alt=\"\" class=\"DS1iW\" src=\"https://encrypted-tbn0.gstatic.com/images?q=tbn:ANd9GcS8Y3p8NBfA49CDLSPd1WJO4qkdt8O012xIVgYFCz5j2rS-cD6n83TSPhXjVHw&amp;s\"/>,\n",
       " <img alt=\"\" class=\"DS1iW\" src=\"https://encrypted-tbn0.gstatic.com/images?q=tbn:ANd9GcTUJlRCPUiEGZULlnH5KUU-ckL5WBNEYvtue0OsNwEWFW7WcBTgb8oTjqhJk1U&amp;s\"/>,\n",
       " <img alt=\"\" class=\"DS1iW\" src=\"https://encrypted-tbn0.gstatic.com/images?q=tbn:ANd9GcShDvDl2lDtl7FbV10jh57s88CSuboSCR0GFC1DXusxD7mkVtLHQwA7y113eQ&amp;s\"/>,\n",
       " <img alt=\"\" class=\"DS1iW\" src=\"https://encrypted-tbn0.gstatic.com/images?q=tbn:ANd9GcShkrDWDZ9WG3J0APqHwihNzXVxA53lxhD7su8EnqW5JOEPpvB10BPTMaY69w&amp;s\"/>,\n",
       " <img alt=\"\" class=\"DS1iW\" src=\"https://encrypted-tbn0.gstatic.com/images?q=tbn:ANd9GcQFgnWE5kP4nJ3Sjny07-PUwGGbaSDtnbhsG_sVF5BS5yFeRQ7b5y7JD0u5Wg&amp;s\"/>,\n",
       " <img alt=\"\" class=\"DS1iW\" src=\"https://encrypted-tbn0.gstatic.com/images?q=tbn:ANd9GcT8Zy7N92MYWjVvU5VeIaIk_mJ5zmDr9VJ5JvONUjBDIKxu1zKaeJNashgcSR8&amp;s\"/>,\n",
       " <img alt=\"\" class=\"DS1iW\" src=\"https://encrypted-tbn0.gstatic.com/images?q=tbn:ANd9GcRwKY7xn9qjOLVLLGqAKmot0cE1hOcoHZ7zgiYlMpOGPGUvP23JTksE-TIKiA&amp;s\"/>,\n",
       " <img alt=\"\" class=\"DS1iW\" src=\"https://encrypted-tbn0.gstatic.com/images?q=tbn:ANd9GcT4w3f_rswks6ySu7CU_kRKmRwsn4B1trfiKrei_4btDE_CIUzx9h92c8ctWQ&amp;s\"/>,\n",
       " <img alt=\"\" class=\"DS1iW\" src=\"https://encrypted-tbn0.gstatic.com/images?q=tbn:ANd9GcSgBbTUTc21xarN6Rk6nKlgUVH7VBdqml6BGduULFGXgL4CQIEBcF-KhsLnFA&amp;s\"/>,\n",
       " <img alt=\"\" class=\"DS1iW\" src=\"https://encrypted-tbn0.gstatic.com/images?q=tbn:ANd9GcT2xUbRKntxnlR35SRfdXaSOa6G53KRz0NtahJ4Xmy2JEvhppHzmJ7l72OQCdA&amp;s\"/>,\n",
       " <img alt=\"\" class=\"DS1iW\" src=\"https://encrypted-tbn0.gstatic.com/images?q=tbn:ANd9GcTEiU8T09XzQC2M8hDqNT89FAL1cDdjuoKzhgVIseL1Xldr5SwIq3F7EKXdow&amp;s\"/>,\n",
       " <img alt=\"\" class=\"DS1iW\" src=\"https://encrypted-tbn0.gstatic.com/images?q=tbn:ANd9GcRdbVYOI4KzB1bJj59m3fZBdx3uHuNPLTzBsQB0Lu7xZTraSPUNzHqkFNbbsg&amp;s\"/>,\n",
       " <img alt=\"\" class=\"DS1iW\" src=\"https://encrypted-tbn0.gstatic.com/images?q=tbn:ANd9GcT_Y8p-bwBgF73y8V8aX_DhcG2bU5r2EGJOUaC-1k5T7-GUsUmI3akiRSlMIQ&amp;s\"/>,\n",
       " <img alt=\"\" class=\"DS1iW\" src=\"https://encrypted-tbn0.gstatic.com/images?q=tbn:ANd9GcRMKTWSCESJvowoq8YUYO56zq4xhfIWo2KrMp53x194doOzQ4E5CDCvAvZixnY&amp;s\"/>]"
      ]
     },
     "execution_count": 11,
     "metadata": {},
     "output_type": "execute_result"
    }
   ],
   "source": [
    "image_tags"
   ]
  },
  {
   "cell_type": "code",
   "execution_count": 12,
   "id": "39ec665e-9b6d-4d27-b398-3882066e4856",
   "metadata": {},
   "outputs": [
    {
     "data": {
      "text/plain": [
       "20"
      ]
     },
     "execution_count": 12,
     "metadata": {},
     "output_type": "execute_result"
    }
   ],
   "source": [
    "len(image_tags)"
   ]
  },
  {
   "cell_type": "code",
   "execution_count": 13,
   "id": "c577a38c-d618-44fd-81b5-268ecb263083",
   "metadata": {},
   "outputs": [
    {
     "name": "stdout",
     "output_type": "stream",
     "text": [
      "https://encrypted-tbn0.gstatic.com/images?q=tbn:ANd9GcSO6pS5Z4uEerMAiWWhH5GLyI_H5Utxo3_U7vTy-47rkO9tzdFnh9f52N6A4ao&s\n",
      "https://encrypted-tbn0.gstatic.com/images?q=tbn:ANd9GcSM3ihqOrQOhzvBJ34Nx2yXaBeMKciCUY0hU8xiNlrJ8nUMjc7n2PVB5hS6fw&s\n",
      "https://encrypted-tbn0.gstatic.com/images?q=tbn:ANd9GcRscawrzcI5I8cEvA2EkLkYqRsgW6NsWUbqqVuR3ncz1MI7dOHdN5NnFIE4Z70&s\n",
      "https://encrypted-tbn0.gstatic.com/images?q=tbn:ANd9GcQ6GNA_gFwWpg9ghAslrD63C_Wdk13glEt2xSfslhHI1ggRw07Z5Anrqd-Rcw&s\n",
      "https://encrypted-tbn0.gstatic.com/images?q=tbn:ANd9GcST6HJ9G2eV5KAlQfxTz6V5qXWb4fmHdGXZ7xDH06XenW2LJLc631We_3DLbg&s\n",
      "https://encrypted-tbn0.gstatic.com/images?q=tbn:ANd9GcR5z27AXADPEb4rN6ldVlpECrt8xdRV80S39cdEAqJanRif1Tm2P9jNdquVfw&s\n",
      "https://encrypted-tbn0.gstatic.com/images?q=tbn:ANd9GcS8Y3p8NBfA49CDLSPd1WJO4qkdt8O012xIVgYFCz5j2rS-cD6n83TSPhXjVHw&s\n",
      "https://encrypted-tbn0.gstatic.com/images?q=tbn:ANd9GcTUJlRCPUiEGZULlnH5KUU-ckL5WBNEYvtue0OsNwEWFW7WcBTgb8oTjqhJk1U&s\n",
      "https://encrypted-tbn0.gstatic.com/images?q=tbn:ANd9GcShDvDl2lDtl7FbV10jh57s88CSuboSCR0GFC1DXusxD7mkVtLHQwA7y113eQ&s\n",
      "https://encrypted-tbn0.gstatic.com/images?q=tbn:ANd9GcShkrDWDZ9WG3J0APqHwihNzXVxA53lxhD7su8EnqW5JOEPpvB10BPTMaY69w&s\n",
      "https://encrypted-tbn0.gstatic.com/images?q=tbn:ANd9GcQFgnWE5kP4nJ3Sjny07-PUwGGbaSDtnbhsG_sVF5BS5yFeRQ7b5y7JD0u5Wg&s\n",
      "https://encrypted-tbn0.gstatic.com/images?q=tbn:ANd9GcT8Zy7N92MYWjVvU5VeIaIk_mJ5zmDr9VJ5JvONUjBDIKxu1zKaeJNashgcSR8&s\n",
      "https://encrypted-tbn0.gstatic.com/images?q=tbn:ANd9GcRwKY7xn9qjOLVLLGqAKmot0cE1hOcoHZ7zgiYlMpOGPGUvP23JTksE-TIKiA&s\n",
      "https://encrypted-tbn0.gstatic.com/images?q=tbn:ANd9GcT4w3f_rswks6ySu7CU_kRKmRwsn4B1trfiKrei_4btDE_CIUzx9h92c8ctWQ&s\n",
      "https://encrypted-tbn0.gstatic.com/images?q=tbn:ANd9GcSgBbTUTc21xarN6Rk6nKlgUVH7VBdqml6BGduULFGXgL4CQIEBcF-KhsLnFA&s\n",
      "https://encrypted-tbn0.gstatic.com/images?q=tbn:ANd9GcT2xUbRKntxnlR35SRfdXaSOa6G53KRz0NtahJ4Xmy2JEvhppHzmJ7l72OQCdA&s\n",
      "https://encrypted-tbn0.gstatic.com/images?q=tbn:ANd9GcTEiU8T09XzQC2M8hDqNT89FAL1cDdjuoKzhgVIseL1Xldr5SwIq3F7EKXdow&s\n",
      "https://encrypted-tbn0.gstatic.com/images?q=tbn:ANd9GcRdbVYOI4KzB1bJj59m3fZBdx3uHuNPLTzBsQB0Lu7xZTraSPUNzHqkFNbbsg&s\n",
      "https://encrypted-tbn0.gstatic.com/images?q=tbn:ANd9GcT_Y8p-bwBgF73y8V8aX_DhcG2bU5r2EGJOUaC-1k5T7-GUsUmI3akiRSlMIQ&s\n",
      "https://encrypted-tbn0.gstatic.com/images?q=tbn:ANd9GcRMKTWSCESJvowoq8YUYO56zq4xhfIWo2KrMp53x194doOzQ4E5CDCvAvZixnY&s\n"
     ]
    }
   ],
   "source": [
    "for i in image_tags:\n",
    "    print(i['src'])  \n",
    "    # image_tags mein jitne bhi <img> tags hain, unke 'src' attribute (jo image ka URL hota hai) ko print kar rahe hain\n"
   ]
  },
  {
   "cell_type": "code",
   "execution_count": 14,
   "id": "e1937daf-42da-4db6-b4c4-737669eabbb2",
   "metadata": {
    "scrolled": true
   },
   "outputs": [
    {
     "data": {
      "text/plain": [
       "b'\\xff\\xd8\\xff\\xe0\\x00\\x10JFIF\\x00\\x01\\x01\\x00\\x00\\x01\\x00\\x01\\x00\\x00\\xff\\xdb\\x00\\x84\\x00\\t\\x06\\x07\\x08\\x07\\x06\\t\\x08\\x07\\x08\\n\\n\\t\\x0b\\r\\x16\\x0f\\r\\x0c\\x0c\\r\\x1b\\x14\\x15\\x10\\x16 \\x1d\"\" \\x1d\\x1f\\x1f$(4,$&1\\'\\x1f\\x1f-=-157:::#+?D?8C49:7\\x01\\n\\n\\n\\r\\x0c\\r\\x1a\\x0f\\x0f\\x1a7%\\x1f%77777777777777777777777777777777777777777777777777\\xff\\xc0\\x00\\x11\\x08\\x00[\\x00\\xa2\\x03\\x01\"\\x00\\x02\\x11\\x01\\x03\\x11\\x01\\xff\\xc4\\x00\\x1c\\x00\\x01\\x00\\x02\\x02\\x03\\x01\\x00\\x00\\x00\\x00\\x00\\x00\\x00\\x00\\x00\\x00\\x00\\x06\\x07\\x04\\x05\\x01\\x03\\x08\\x02\\xff\\xc4\\x00<\\x10\\x00\\x01\\x03\\x03\\x03\\x02\\x04\\x04\\x01\\n\\x05\\x05\\x00\\x00\\x00\\x00\\x01\\x02\\x03\\x04\\x00\\x05\\x11\\x06\\x12!\\x131\\x07AQq\\x14\"2a\\x81\\x15$Bb\\x82\\x91\\xa1\\xa2\\xb1\\xd1\\x16\\x17#Rr3C\\x92\\xc2\\xf0\\xff\\xc4\\x00\\x18\\x01\\x01\\x01\\x01\\x01\\x01\\x00\\x00\\x00\\x00\\x00\\x00\\x00\\x00\\x00\\x00\\x00\\x00\\x01\\x02\\x03\\x04\\xff\\xc4\\x00\\x1f\\x11\\x01\\x01\\x00\\x02\\x02\\x01\\x05\\x00\\x00\\x00\\x00\\x00\\x00\\x00\\x00\\x00\\x00\\x01\\x02\\x11\\x03!A\\x04\\x121Qq\\xff\\xda\\x00\\x0c\\x03\\x01\\x00\\x02\\x11\\x03\\x11\\x00?\\x00\\xbciJP)JP)JP)JP)JP+\\x82BA$\\x80\\x07$\\x9a\\xe6\\xb0/\\xed\\xba\\xed\\x8a\\xe4\\xdc|\\xf5\\x97\\x15\\xd4\\xb7\\x83\\x83\\xb8\\xa4\\xe3\\xf8\\xd0g\\x8aV\\x87DM\\xb9O\\xd3\\xac=yh54)HZ6\\xe0\\x8c\\x1e22y\\xc7\\x7f\\xbdo\\xa8\\x14\\xa5(\\x14\\xa5(\\x14\\xa5(\\x14\\xa5(\\x14\\xa5(\\x14\\xa5|:\\xebl\\xb6\\xa7^ZP\\xdaFT\\xa5\\x1c\\x00(>\\xe9\\\\\\x02\\x08\\x04\\x1c\\x83\\xda\\x99\\xa0\\xe6\\x95\\xc6k\\x9a\\x05)\\\\\\x1e(9\\xac\\x0b\\xe4\\xf5\\xda\\xad\\x12\\xe7\\xb7\\x11\\xe9j\\x8e\\xd1s\\xa0\\xcf\\xd6\\xbcy\\n\\xef\\x952<F\\xcb\\x92^CH\\x1ej5\\xa9wR\\xc7\\xc1TX\\xb2\\xe4\\xa4\\x0c\\xefC$\\'\\xf7\\x9a\\x96\\xc8\\xe9\\x8f\\x16y\\xcd\\xe3\\x15\\xed\\xa7X^n\\xf74\\xc6\\x8e\\xa5\\xdbY\\x8f<\\xbd$\\x98\\xf8\\xea$\\x90Kj\\xdcN;\\x9eGl\\x0c\\xf7\\x15lI\\x9b\\x1a.\\xde\\xbb\\xa9I^v\\xa7<\\xab\\x1c\\x9c\\x0f:\\xaf\\xb5\\x8d\\xde\\xcf{\\xb2u\\x9b\\x9e\\xab]\\xca:V\\xecg^\\x05)\\'\\x18X\\xc8\\xcaV8\\xed\\xcf U=n\\xd4\\xb2\\xa5\\xcdr9\\x9d(\\xaeK\\x80&k\\xd2\\x16Vq\\xf4$\\x8d\\xdbv\\x93\\x90F\\x07\\xd4\\x0f\\x18\\xc5Ye\\xf8g<3\\xc2\\xeb)\\xa7\\xa8\\xa1\\xcd\\x8d::$Dy\\x0e\\xb4\\xb1\\x94\\xa9\\'\\xff\\x00\\xb1\\xedY\\x15JxW\\xabo7\\xcdD\\xd3\\x0f\\xe9\\xfbkq\\xd0\\x80$La\\x82\\x87\\x10v\\xabi$\\xab\\xcc\\x828\\x15u\\x8e\\xd4`\\xa5)E)JP)JP)JP+\\xaaK(\\x91\\x1d\\xd6\\x1c\\xce\\xc7\\x12P\\xac\\x1c\\x1c\\x1f\\xbdhue\\xfeU\\x9dq\\xd9\\x85\\x13\\xe2\\x1d}\\x0e)#rG)\\xc7\\x19Q\\x03\\x9c\\xfa\\xd5}p\\xf12\\xf0\\x18PTe\\xc4w\\xa8[\\ra\\x05\\xd7\\x14;\\xa4w\\xdb\\x82FTA\\xc7\\x00\\x02M\\'ke\\x92[\\xe5\\x81x\\xd6\\x17\\xeb{\\xceZm\\xd2\\xd2Z\\xb7\\xa9q\\xc2\\x9bZ\\x12TP\\xa2\\x0err1\\x8c\\x01\\xe4\\x00\\xeey\\xad\\x13\\xda\\xebT4\\xad\\x8a\\xb8\\xc8I\\xc6q\\xd5\\'\\x83\\xf7\\x06\\xb5\\x17\\xd8n^\\xa5\\xbft\\xb8%\\xa4/\\xfe\\xea\\xd2\\xa2\\x07\\xdbr\\xd4N\\xe5~\\'\\xb7\\xee\\xd4G\\x8dm)Z\\xda\\x92\\x08i%\\xc5\\x02\\xb5\\x01\\x8f\\xbe=I\\x03\\xdc\\xd6\\x98M`x\\x8b\\xa8\\x9a}\\nv{\\xab\\x00\\x8c\\x85\\x1c\\x8f\\xdcjwh\\xf1j\\x1a\\x9bJnm\\x00\\xbcd\\xa9\\xbe=\\xb8?\\xde\\xaaiVw\\xa25\\x1d\\xdc\\xba\\xc2\\xdfN\\xf41!\\n\\xf9\\xd1\\xc7\\xcc\\x14y\\xc78\\xf3#\\xccsZ\\xd7\\xd9yN%\\xa4\\xb2\\xb5>I\\xff\\x00I#r\\x88\\xf5\\x00w\\x1e\\xdc\\xfd\\xa9\\xa3\\xb7\\xa1\\x1c\\xf1?L\\xb6\\xd9R\\xa5/#\\x1f.\\xd1\\xe7\\xf8\\xf9V\\xa9^+\\xc1\\xb8\"Sv\\x88\\xaf\\xa9m\\x8f\\x95j\\x03*\\xf6O\\xf78\\xfe\\x86\\x94\\x9da\\xb8\"\\t\\x92\\xdbEIJ\\xc3n,\\xb8\\xdaCJ#8P\\xdcU\\xdb\\xc8\\x84\\x9f\\xb5a\\xb7\"\\x14@\\x94\\xaa$\\xb7\\x14\\x9f\\xadBb\\x02T\\xaf2\\x07K#\\xf7\\xd6r\\x9dt\\xeb\\xc5\\x963-\\xe77\\x13\\xfb\\xa6\\xaf\\xbf;\\'\\xaa\\x96\\xd0\\xce\\x15\\x92Vw\\xb8\\xaf\\xdb=\\xb3\\xfa\\xa15\\xafr\\xec\\xc4\\xd4\\x03qC\\xcbpc=iN\\xbc\\x93\\xec\\x14O\\xf1\\xa8\\xa2\\x0f\\xe5\\x08\\xec\\xa2\\x04\\x89-\\xba\\x96\\xcf\\xc5u\\xb6\\x94\\xef\\x07\\x8d\\x98\\xe7\\x04`\\xe0\\x8c\\x83\\xc75\\xd5o\\xb6\\xc9\\x92\\xfa\\x03\\x8b\\xea0\\xd3\\xbbV\\x83\\x91\\x9c\\x1c\\x109\\x1d\\xfd\\xc5s\\x98}\\xbd|\\x9e\\xaf\\xdd\\xd6=~$\\xd7Ym\\xa6\\xdc\\xf4v_\\x06\"\\xc2J\\x18ud\\xe1\\xc0NT\\x80~\\x9f\\x97 \\xf9\\x1c\\xfbb\\'d\\x88\\xc3\\xf7\\x04\\x19\\x8e8\\xccD\\xafc\\xce\\xa0p\\xd8!\\\\\\x93\\x83\\x8eq\\xce\\x0f\\x99\\xc7\\x15;\\xd6:\\x7fN7\\xa1\\x05\\xd2\\xce\\xe2#\\\\Y\\x7fs\\x91W\\'{\\xa1\\x85(\\xa4 \\x8c\\xf7\\x1b\\x91\\xcf\\xbf<\\xd5\\x85\\xe1^\\x90\\x87\\x1fE\\x06\\xeeP\\x19tMl.B\\x1fl+\\xa8\\xac\\x95\\x0c\\xe7\\xc9?(\\x1e\\x84\\x13\\xe7Z\\xc7\\x1dW\\x1en{\\xcb\\x8c\\x97\\xc3\\xa3\\xc2\\xa8\\xd6u^\\xaeR\\xad2\\xa4,\\xa9(/%\\x0e\\x152\\xa5\\xed\\xf9\\xbfE?\\xee\\x07$\\x0c\\xe4\\xfa\\x1a\\xb4\\x87j\\xa2\\xad\\xcf\\xff\\x00\\x97\\xfe!2\\xb2\\t\\xb7]XAR\\x11\\xdfq\\x07\\x8cz\\xee\\n\\x03\\xecSR\\xf9>.\\xd8\\x98RR\\xa9\\x10\\x9bQ\\xfd\\x07\\x1fqjO\\xbfI\\xb5\\xa7?\\xb5Zy\\xd65*\\x1ff\\xf1\\x0e\\xcduPC\\x0e\\xb6\\xea\\x88\\xcf\\xe6\\xceu\\x08\\xf7A\\ts\\xf9*Y\\x1d\\xf6\\xa4\\xb2\\x97\\xa3\\xb8\\x87\\x1bW)Z\\x0eA\\xa0\\xec\\xa5)@\\xa5)@\\xa5)A\\x11\\xf1#\\xf2\\xda\\xace\\x1ai\\x97\\\\\\xb8o\\nGH\\'p\\xe7\\x04d\\xf08$\\xfe\\x15G\\xeaX\\xd7M8\\xf3F\\xf9\\x1fd\\xb9\\xa1J\\r\\xa6HS\\x88O\\x9a\\xfc\\xfb\\x9c\\xe4\\x9f\\xa8\\xee\\xed^\\x9d5\\xe6\\x1dS)\\xddW\\xe2L\\xcewn\\x95\\xf0\\xac\\x85\\xe4\\xa4%+\\xe9\\xa7\\xb7d\\xe7\\x93\\xeei\\x06\\xaa\\x06\\x98\\x9bxp:\\xd3\\x8b}\\xa5\\x10z\\xaaA\\xcaI\\xf5O\\x97o\\xd1\\xcf\\x1c\\xe2\\xa5\\xecx\\\\\\xec{b\\xae\\x0eN\\x82\\xf4\\\\ly\\tx\\xa8(n\\xc6\\x01\\x08\\x1f0\\xc0>X54\\xd7Q!\\xe9\\x9d\\'\\x16\\neMi\\xbc\\xe1\\xb6#>\\x86\\xcc\\xa5\\x81\\xb8\\x97U\\xb3\\x94\\xe4\\x15+\\x18\\xceq\\xe7U\\xd4\\x1b\\xff\\x00F\\x04\\x89o\\x80\\xeae\\xaf\\xe1\\xc3\\xc4\\x15/\\xb6J\\xb6\\xe7\\xecR\\x15\\x8c\\xfd\\xea\\x8f\\x8f\\x10.\\xd7\\t\\xba\\x92\\x1c\\xa7\\xdbT8\\x89\\x8a\\x1a\\x8c\\x14\\x08O)9V1\\xc0+\\xc6<\\xb0\\x07\\xa5}\\xc4\\xe9Ld\\xb7\\xf1n\\xc6c\\x00-\\xa6\\x9a\\x19A\\xfdp\\x08*\\xf79\\xcfz\\xed\\x95\\x15\\x8b\\x97ZU\\xd1\\xe5\\xb6\\xdb\\x80%\\xa4%\\x04%\\x90\\x12B\\x11\\xb0\\xe3\\x1c\\x02T}|\\xb3Q<NfJ\\\\n3\\xcc\\xb2\\xd6\\x12\\xca\\x8ap\\xa4\\x801\\xc8\\xfd y\\xcf\\xbf\\x18\\xadA\\x99\\x7f\\x88\\xdcF\\x16 J.4\\xbd\\xaaq\\tI\\x1f0\\xe0y~\\xb1\\xed\\xe9\\xcfaX,\\xc3\\xf8\\x96ZJT\\xa2\\xe2\\x80N\\x03J?63\\x8e\\xd5\\x99%\\xd9\\x8f\\xf4\\xdfY\\x0c\\xf4\\xcf\\x1d\\'\\x08\\x07 \\x85g\\x8c\\xf2\\x0e;\\xfa\\xd6~\\x89K\\xb2.F\\x13_;n\\xee\\xea\\x05\\xf2H\\t\\')O\\xaf\\x96|\\xb3\\x9f\\xb5J\\x8e\\xdb\\x94I\\xf1-V\\xd6a\\xa1B\\xe6\\xc8Sr\\x18\\x0c \\x1e\\x96\\x06\\xd3\\x9f\\xa8\\xf6\\xc9\\xe7\\x82x\\xe3\\xb7n\\x8a\\x85{\\xb8j\\xd8\\x11\\'\\xc5\\xd8\\xc2\\x9e\\x05\\xfe\\xa8\\t\\xc3c\\x93\\x8eG8\\xed\\x8es\\x8a\\xdc\\xb7j\\x9f\\xfe!\\n\\x99k\\n\\x8d\\xd1\\xe9\\xb2\\xb8\\xaf<\\x94\\xa1)\\x00\\x7f\\xa87rH\\xe3<\\xfe>\\\\!\\xd9\\xb6k\\x84q0\\xb4\\xb9\\xce\\x12\\xa6\\xfa(\\xea6\\x9cv\\nQ\\x03\\x04\\xfa\\x10s\\xea3\\xc1R\\xedt\\xc44]\\xad6;sMIK\\xe3\\xa5)\\x87\\x1e+$nIFrN\\x14\\x12\\x1dP=\\xf2\\x91\\xf6\\xad\\xcf\\x89\\x9a\\xc1\\xbd\\x11\\xa7\\xdbj\\x03IT\\xe7\\xc7N2\\x08\\xca[H\\xe3y\\xf6\\xec\\x07\\x99\\xfckS\\xa1\\x9a:\\x83U\\xbf|r+1\\xd0\\xd3I\\xc2\\x19\\xe1\\x05jH\\xc7\\xe2\\x12\\x12}\\x9c\"\\xabo\\x15\\xee\\x8e\\xdd\\xbcA\\x9c\\xde\\xec\\xb7\\x15i\\x8e\\xd2{\\x8c\\xa4`\\x1f\\xfc\\x96\\xaf\\xddY\\x18\\x96\\x0f\\x8b\\xba\\xea\\xc8\\x0e\\\\\\x91\\xf1\\xac\\x97v\\xac>v\\xa5y\\xe4\\xf3\\xe6\\xbc\\x8c\\x8f,\\x80\\x9e\\xdd\\xad(^\\x19[&)\\xf7\\xff\\x00+L\\xc2\\x96\\xb5\\xa51\\xdd\\xd8\\x94\\x02r\\x91\\xf2\\xf7\\xe0\\xf9\\xd7\\xc4\\xb3\\xfe\\x08\\xd3\\xd6\\xcbk\\x11#J}\\xe2\\x1e\\x06H\\xe1\\x95\\x84\\x82\\xa5\\x11\\x9c\\x9e\\xdd\\xf3\\xfd\\xabmnu1cI\\x9c\\xc8[\\xcd\\x16\\xd2\\xfa\\xa3\\xc5\\xc2\\xdc!]\\xf0;ps\\xc7\\xa1\\x1e\\x95-\\xb3Z\\x8b$B\\xaf>\\x1f\\xdc\\x92\\xf5\\xc1:zy\\x94\\x98%\\x05]d\\x02\\xa0\\xa1\\x95m\\x07\\xb9 \\x04\\x1c\\xf2s\\x8c\\n\\xdcx]\\xae\\x9ee\\xf4i\\xbd@\\x95!\\xe4\\x1d\\x8c\\xbc\\xb3\\x92TO\\x01G\\xcc\\x9c\\xfd^u-\\xd12\\x9ev\\x02\\xd4\\xfb!+}\\xf7\\x1dR\\xc7\\xd2\\xa5\\x15`\\x8f\\\\\\xa7\\x81\\x83\\xe9\\xdc\\xf3U\\xef\\x8c\\xd64\\xc2\\xbb\\xc5\\xb9\\xc4\\x05\\x0e?\\x92\\xb0\\x92\\x01\\xe3\\x92}x8>\\xea5\\xa4^\"\\xb9\\xad>\\x90\\xb9\\xaa\\xf3\\xa6-\\x97\\x17?\\xea?\\x1d*s\\xfex\\xc2\\xbf\\x885\\xb8\\xa8\\x14\\xa5(\\x14\\xa5(85\\xe7\\xc8\\xd1\\xb4\\x9d\\x97U:\\xb9\\x97{\\x84k\\xd3\\x13\\x9cR\\xd0\\xe3_\\xe8\\xa5]BRr\\x13\\x90\\x9c`\\xe7w\\xadz\\x12\\xa9?\\x1c\\xb4s\\xe9\\x95\\xfe)\\xb5\\xb2V\\x8d\\xa13\\x90\\x81\\xcaq\\xc0s\\x1ec\\x18\\x07\\xd3\\x00\\xfa\\xe0&\\x17\\x08\\xb6\\x1b\\xa3\\x8d9s\\x90\\xc4\\x92\\x91\\x96\\xd4\\xb9A%\\x04\\xf7#n\\x07<y~5\\x8et\\x96\\x9c\\x90\\x94\\x98\\xebt)#\\x01l\\xbe\\x8c\\x91\\xf78\\xf9\\xbf\\x1c\\xd4\\x1bBx\\x9c\\xc48\\xed[\\xb5\\x13oI\\x8e\\xdav\\xb2\\xf0QR\\x908\\xc2T\\t\\xf9\\x929\\xe4d\\xf6\\x188\\xcdL\\xce\\xad\\xd0\\xa8fL\\x87\\x97\\x19\\xc2\\xee\\xed\\x9f\\x98\\xabq\\xe3#\\x8d\\xbcw\\xee{y\\xe2\\xaa1\\xafz\\r\\x87\\xad\\xa9\\x8b\\x05e\\xec>\\x16Q0\\x00\\x90;(\\x82\\xdaB\\xb2\\x07a\\x9cTfW\\x86r\\xe3\\xde\\xd8~\\x1c\\xd4\\xcc\\x86\\xcb\\x88q\\xd6&!mu\\x06rS\\x90\\x140q\\x8e\\xd9\\xa8\\xee\\xb9\\xd6\\xf0\\xe6\\x81\\x0fM\\xc5D6\\x1bZ\\xbf9m!\\x0e\\xacd\\xe3\\xe6\\x1d\\x861\\xc0\\xfc}\\x0c\\xdf\\xc2\\xfd\\x00\\xfd\\xca\\xd4\\xe5\\xd3X|C\\x8a\\x94\\xde\\xc8\\xcc\\xad\\xd5\\x07\\x12\\xd19*R\\xb3\\xb8n8\\xc0\\xcf\\x00}\\xea\\xab\\xb2\\xef\\xa5`\\xcf\\x90\\xa59\\n\\x1d\\xa9\\x94\\xb5\\xf2~O\\xd8\\xde\\xf5\\xf3\\xc2\\x92H\\x04v;\\xfe\\xa3\\xdb\\x8c\\n\\xae\\x1d\\xb5\\xde-2\\xc3\\xd1\\xe6Z\\xe3<\\x0eR\\xb1s\\x8e\\x92\\x8e{\\xe1J\\x1c\\xf7\\xfc\\x0e=k\\xd0\\x914M\\x8e\\x1e\\xc0\\xc3\\x12\\x92\\x100?>x\\xff\\x00\\xefY\\x124\\xbd\\xbd\\xe7\\x02\\xca\\xe7#\\x03\\x1bQ5\\xd0\\x9f\\xdd\\xbb\\x06\\xa6\\xc5\\x1fd\\xbdj\\x19\\xd7\\'\\n\\xa5\\xad\\xd5%\\xe4\\x97\\x14\\x96\\x12\\xf3({h\\x1d\\x92\\xacv\\x00\\xe7;rs\\xde\\xb7\\x16\\x99\\xb7i\\xf1\\xe4\\xb7s\\x9d\\xd0\\xb6\\xb6V\\xad\\xcc\\x85\\x17\\x1e\\xf9\\x88N\\n\\x94\\xa3\\xf3(`%=\\xfc\\xb2*_3\\xc3\\'&L\\x01\\xddA!V\\xd2\\xb2\\xa5\\xc61Z\\x0e\\x11\\xfe\\xd0\\xe0\\x00\\x81\\xf8g\\xb5Iai\\x0b454X\\x88\\x94\\xa5\\xa1\\x86\\xd3\\x84\\x8d\\xa3\\xd3 g\\xdf\\x9e|\\xe9\\xb1\\xd3\\xa0m\\x86\\xdd\\xa7\\xda/7\\xd3\\x91 \\xf5\\x9dNA\\xdaOd\\xfe\\xc8\\xc2G\\xd9\"\\xa8\\x1d}ov\\xd3\\xafn\\xce\\xbd\\xb4\\x0f\\x8d\\xea\\xa7w;\\x92\\xa3\\xd4\\x07\\x1e\\x9d\\xc5z\\x88\\x00\\x90\\x02@\\x00v\\x02\\xab\\xcf\\x164\\x025<\\x07.V\\xe6\\xcf\\xe5\\xa6\\x10\\x9e\\x98\\xdd\\x80\\xf2\\x13\\xb8\\xec\\xf4\\xc9\\xdcp}@\\x1d\\xaa\\x0f\\x97\\xed\\xd3\\xb5\\x1c(WO\\x81\\xb4\\xb4\\xdbL\\x1e\\x93\\xcaqn,\\x05c#\\t\\xda\\x9e\\x08\\xed\\xcf\"\\xb5\\x0c\\xdb\\xae\\x1av\\xf6\\xd4\\xabY\\x83>l\\xd6\\xd2\\xd3\\x8a\\x94\\xe1iCo\\x19<\\x9d\\xc0\\x92\\x0f\\xdf\\xb6G\\x94c\\xc3o\\x11M\\x81\\x06\\xd1{m\\xde\\x82\\x16R\\x95(\\x10\\xb8\\xe7\\xb1I\\x07\\xb69\\xf4\\xfe\\xf6\\xbb7\\xed15\\x84<\\x8b\\x9c4\\xa4\\x80\\xa2\\x14\\xe8G\\'\\x9e\\xc7\\xfbU\\x18\\xda6\\xd5.\\xd5\\x1d\\xbbs\\xcf\\xb6\\xebM\\xe5jq\\x19;\\x9cW\\xd5\\xf3\\x13\\x92\\x00\\xf7\\xce{\\xf7\\x15\\x11\\xf1\\xd2\\xe0\\x84.\\x0c4(oH\\xca\\x87ln \\xe7\\xf9?\\x98T\\x9e\\xff\\x00\\xe2\\r\\x82\\xc6\\xc2\\x84G\\xd3&N0\\x12\\xd6H\\xcfl\\xe7\\xcc{g\\xcb\\xb7z\\xac\\xb4\\xd5\\xa6\\x7f\\x88\\xda\\xb8\\xc9\\x96\\x95\\x18\\r/|\\xb7q\\x84\\x81\\xfe\\xc1\\xfa\\xca\\xe0`v\\x1e\\xc3!sxs\\x11\\xc8Z\\x1e\\xcc\\xcb\\xc0\\xa5\\xcf\\x86\\x0b \\xf7\\x1b\\x89V?\\x8dI+\\xe5\\t\\x08HJF\\x12\\x06\\x00\\x1eB\\xbe\\xaa\\x05)J\\x05)J\\x05p\\xa4\\x85$\\xa5@\\x10F\\x08=\\x8dsJ\\n\\xbbVx-e\\xbb<\\xe4\\x9b+\\xcb\\xb4\\xbe\\xb3\\x95!\\t\\xde\\xc9?\\xf0\\xe3o\\xe0q\\xf6\\xa8\\xa7\\xf9\\tu$\\x05_\\xa1\\xed\\xcf$0\\xae*\\xfc\\xa5\\x05o\\xa3\\xfc\\x1f\\xb0\\xe9\\xf7\\xda\\x999K\\xbaMl\\x85%O$%\\xb4\\xab\\xd4#\\xd7\\xdc\\x9a\\xb1\\xc0\\x03\\xb5sJ\\x05)J\\x05)J\\x05)J\\x08f\\xb4\\xf0\\xde\\xc5\\xaa\\xdc2\\x9eB\\xe2\\\\q\\x8f\\x8b\\x8d\\x80\\xa5\\x7f\\xccvW\\xf5\\xfb\\xd5v\\xe7\\x82z\\x85\\x876\\xc2\\xbd[\\x9dk?S\\xad-\\xb5\\x1fp\\x01\\xfe\\xb5{\\xd2\\x82\\x9d\\xb2\\xf8&\\xa2\\xe0^\\xa3\\xbb\\xf5\\x9a\\x04\\x13\\x1a\\n:a^\\xeb<\\xe3\\xd8\\x0fz\\xb5\\xad6\\xb86x-B\\xb6En,f\\xbe\\x96\\x9b\\x18\\x03\\xef\\xf7?z\\xcc\\xa5\\x02\\x94\\xa5\\x02\\x94\\xa5\\x07\\xff\\xd9'"
      ]
     },
     "execution_count": 14,
     "metadata": {},
     "output_type": "execute_result"
    }
   ],
   "source": [
    "requests.get(\"https://encrypted-tbn0.gstatic.com/images?q=tbn:ANd9GcTaVmzHVqc2TfPj1-Ni8U9mAGX54tiHJiu9_bLL6BFXlYSBuBdJe4gr8CyCMKc&s\").content\n",
    "# URL pe GET request bhej rahe hain jahan image hai,\n",
    "# aur us image ka raw data (bytes) wapas le rahe hain,\n",
    "# taaki hum is data ko image file ki tarah save kar sakein."
   ]
  },
  {
   "cell_type": "code",
   "execution_count": 15,
   "id": "bb0a6004-80b2-47b7-98a3-574e9a4d5e94",
   "metadata": {},
   "outputs": [],
   "source": [
    "\n",
    "save_dir = \"ktm bikes\"  # yeh folder ka naam hai jahan images save karni hain\n",
    "if not os.path.exists(save_dir):  # agar yeh folder computer mein nahi hai\n",
    "    os.makedirs(save_dir)  # toh naya folder bana do"
   ]
  },
  {
   "cell_type": "code",
   "execution_count": 16,
   "id": "754ebef4-fd16-4d22-a110-99142e0f0d85",
   "metadata": {},
   "outputs": [],
   "source": [
    "for i in image_tags:                                                   # har ek <img> tag ke liye loop chala rahe hain\n",
    "    image_url = i['src']                                               # image ka direct URL le rahe hain from 'src' attribute\n",
    "    image_data = requests.get(image_url).content                       # image URL se data (bytes) download kar rahe hain\n",
    "    with open(os.path.join(save_dir, f\"{query}_{image_tags.index(i)}.jpg\"), \"wb\") as f:  # ek nayi .jpg file bana rahe hain with a unique name using query and index\n",
    "        f.write(image_data)                                            # us file mein image ka data save kar rahe hain\n"
   ]
  },
  {
   "cell_type": "code",
   "execution_count": null,
   "id": "c9827f03-2ebf-48e7-b355-d7ba871e4590",
   "metadata": {},
   "outputs": [],
   "source": []
  },
  {
   "cell_type": "code",
   "execution_count": null,
   "id": "b98a2ea7-3877-42cc-93aa-b127af638fb9",
   "metadata": {},
   "outputs": [],
   "source": []
  },
  {
   "cell_type": "code",
   "execution_count": null,
   "id": "d2724153-dfd0-4d98-9b99-5a015e85a1c7",
   "metadata": {},
   "outputs": [],
   "source": []
  },
  {
   "cell_type": "code",
   "execution_count": null,
   "id": "74d89942-5a98-43d1-9c7a-b95182178fc5",
   "metadata": {},
   "outputs": [],
   "source": []
  }
 ],
 "metadata": {
  "kernelspec": {
   "display_name": "Python 3 (ipykernel)",
   "language": "python",
   "name": "python3"
  },
  "language_info": {
   "codemirror_mode": {
    "name": "ipython",
    "version": 3
   },
   "file_extension": ".py",
   "mimetype": "text/x-python",
   "name": "python",
   "nbconvert_exporter": "python",
   "pygments_lexer": "ipython3",
   "version": "3.12.7"
  }
 },
 "nbformat": 4,
 "nbformat_minor": 5
}
